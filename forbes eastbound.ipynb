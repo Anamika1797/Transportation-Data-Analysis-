{
 "cells": [
  {
   "cell_type": "code",
   "execution_count": 1,
   "metadata": {},
   "outputs": [],
   "source": [
    "import pandas as pd\n",
    "traf = pd.read_csv('Forbes-Project.csv')\n",
    "TMC = pd.read_csv('TMC_Identification.csv')\n"
   ]
  },
  {
   "cell_type": "code",
   "execution_count": 2,
   "metadata": {},
   "outputs": [
    {
     "data": {
      "text/html": [
       "<div>\n",
       "<style scoped>\n",
       "    .dataframe tbody tr th:only-of-type {\n",
       "        vertical-align: middle;\n",
       "    }\n",
       "\n",
       "    .dataframe tbody tr th {\n",
       "        vertical-align: top;\n",
       "    }\n",
       "\n",
       "    .dataframe thead th {\n",
       "        text-align: right;\n",
       "    }\n",
       "</style>\n",
       "<table border=\"1\" class=\"dataframe\">\n",
       "  <thead>\n",
       "    <tr style=\"text-align: right;\">\n",
       "      <th></th>\n",
       "      <th>tmc</th>\n",
       "      <th>road</th>\n",
       "      <th>direction</th>\n",
       "      <th>intersection</th>\n",
       "      <th>state</th>\n",
       "      <th>county</th>\n",
       "      <th>zip</th>\n",
       "      <th>start_latitude</th>\n",
       "      <th>start_longitude</th>\n",
       "      <th>end_latitude</th>\n",
       "      <th>end_longitude</th>\n",
       "      <th>miles</th>\n",
       "      <th>road_order</th>\n",
       "      <th>timezone_name</th>\n",
       "      <th>type</th>\n",
       "      <th>country</th>\n",
       "      <th>active_start_date</th>\n",
       "      <th>active_end_date</th>\n",
       "    </tr>\n",
       "  </thead>\n",
       "  <tbody>\n",
       "    <tr>\n",
       "      <th>7</th>\n",
       "      <td>104+09114</td>\n",
       "      <td>FORBES AVE</td>\n",
       "      <td>EASTBOUND</td>\n",
       "      <td>OAKLAND AVE</td>\n",
       "      <td>PA</td>\n",
       "      <td>ALLEGHENY</td>\n",
       "      <td>15213</td>\n",
       "      <td>40.43713</td>\n",
       "      <td>-79.96310</td>\n",
       "      <td>40.44155</td>\n",
       "      <td>-79.95696</td>\n",
       "      <td>0.444425</td>\n",
       "      <td>8.0</td>\n",
       "      <td>America/New_York</td>\n",
       "      <td>P1.11</td>\n",
       "      <td>USA</td>\n",
       "      <td>2019-04-16 17:00:00-04:00</td>\n",
       "      <td>NaN</td>\n",
       "    </tr>\n",
       "    <tr>\n",
       "      <th>8</th>\n",
       "      <td>104+09115</td>\n",
       "      <td>FORBES AVE</td>\n",
       "      <td>EASTBOUND</td>\n",
       "      <td>S BELLEFIELD AVE</td>\n",
       "      <td>PA</td>\n",
       "      <td>ALLEGHENY</td>\n",
       "      <td>15213</td>\n",
       "      <td>40.44155</td>\n",
       "      <td>-79.95696</td>\n",
       "      <td>40.44392</td>\n",
       "      <td>-79.95073</td>\n",
       "      <td>0.373315</td>\n",
       "      <td>9.0</td>\n",
       "      <td>America/New_York</td>\n",
       "      <td>P1.11</td>\n",
       "      <td>USA</td>\n",
       "      <td>2019-04-16 17:00:00-04:00</td>\n",
       "      <td>NaN</td>\n",
       "    </tr>\n",
       "    <tr>\n",
       "      <th>9</th>\n",
       "      <td>104+09116</td>\n",
       "      <td>FORBES AVE</td>\n",
       "      <td>EASTBOUND</td>\n",
       "      <td>BEELER ST</td>\n",
       "      <td>PA</td>\n",
       "      <td>ALLEGHENY</td>\n",
       "      <td>15213</td>\n",
       "      <td>40.44392</td>\n",
       "      <td>-79.95073</td>\n",
       "      <td>40.44389</td>\n",
       "      <td>-79.93881</td>\n",
       "      <td>0.638991</td>\n",
       "      <td>10.0</td>\n",
       "      <td>America/New_York</td>\n",
       "      <td>P1.11</td>\n",
       "      <td>USA</td>\n",
       "      <td>2019-04-16 17:00:00-04:00</td>\n",
       "      <td>NaN</td>\n",
       "    </tr>\n",
       "    <tr>\n",
       "      <th>10</th>\n",
       "      <td>104+09117</td>\n",
       "      <td>FORBES AVE</td>\n",
       "      <td>EASTBOUND</td>\n",
       "      <td>SCHENLEY DR</td>\n",
       "      <td>PA</td>\n",
       "      <td>ALLEGHENY</td>\n",
       "      <td>15217</td>\n",
       "      <td>40.44389</td>\n",
       "      <td>-79.93881</td>\n",
       "      <td>40.43785</td>\n",
       "      <td>-79.93309</td>\n",
       "      <td>0.516082</td>\n",
       "      <td>11.0</td>\n",
       "      <td>America/New_York</td>\n",
       "      <td>P1.11</td>\n",
       "      <td>USA</td>\n",
       "      <td>2019-04-16 17:00:00-04:00</td>\n",
       "      <td>NaN</td>\n",
       "    </tr>\n",
       "    <tr>\n",
       "      <th>11</th>\n",
       "      <td>104-09116</td>\n",
       "      <td>FORBES AVE</td>\n",
       "      <td>WESTBOUND</td>\n",
       "      <td>BEELER ST</td>\n",
       "      <td>PA</td>\n",
       "      <td>ALLEGHENY</td>\n",
       "      <td>15217</td>\n",
       "      <td>40.43785</td>\n",
       "      <td>-79.93309</td>\n",
       "      <td>40.44389</td>\n",
       "      <td>-79.93881</td>\n",
       "      <td>0.516082</td>\n",
       "      <td>4.0</td>\n",
       "      <td>America/New_York</td>\n",
       "      <td>P1.11</td>\n",
       "      <td>USA</td>\n",
       "      <td>2019-04-16 17:00:00-04:00</td>\n",
       "      <td>NaN</td>\n",
       "    </tr>\n",
       "  </tbody>\n",
       "</table>\n",
       "</div>"
      ],
      "text/plain": [
       "          tmc        road  direction      intersection state     county  \\\n",
       "7   104+09114  FORBES AVE  EASTBOUND       OAKLAND AVE    PA  ALLEGHENY   \n",
       "8   104+09115  FORBES AVE  EASTBOUND  S BELLEFIELD AVE    PA  ALLEGHENY   \n",
       "9   104+09116  FORBES AVE  EASTBOUND         BEELER ST    PA  ALLEGHENY   \n",
       "10  104+09117  FORBES AVE  EASTBOUND       SCHENLEY DR    PA  ALLEGHENY   \n",
       "11  104-09116  FORBES AVE  WESTBOUND         BEELER ST    PA  ALLEGHENY   \n",
       "\n",
       "      zip  start_latitude  start_longitude  end_latitude  end_longitude  \\\n",
       "7   15213        40.43713        -79.96310      40.44155      -79.95696   \n",
       "8   15213        40.44155        -79.95696      40.44392      -79.95073   \n",
       "9   15213        40.44392        -79.95073      40.44389      -79.93881   \n",
       "10  15217        40.44389        -79.93881      40.43785      -79.93309   \n",
       "11  15217        40.43785        -79.93309      40.44389      -79.93881   \n",
       "\n",
       "       miles  road_order     timezone_name   type country  \\\n",
       "7   0.444425         8.0  America/New_York  P1.11     USA   \n",
       "8   0.373315         9.0  America/New_York  P1.11     USA   \n",
       "9   0.638991        10.0  America/New_York  P1.11     USA   \n",
       "10  0.516082        11.0  America/New_York  P1.11     USA   \n",
       "11  0.516082         4.0  America/New_York  P1.11     USA   \n",
       "\n",
       "            active_start_date active_end_date  \n",
       "7   2019-04-16 17:00:00-04:00             NaN  \n",
       "8   2019-04-16 17:00:00-04:00             NaN  \n",
       "9   2019-04-16 17:00:00-04:00             NaN  \n",
       "10  2019-04-16 17:00:00-04:00             NaN  \n",
       "11  2019-04-16 17:00:00-04:00             NaN  "
      ]
     },
     "execution_count": 2,
     "metadata": {},
     "output_type": "execute_result"
    }
   ],
   "source": [
    "forbes = TMC.loc[TMC.road == 'FORBES AVE',:]\n",
    "forbes.head()"
   ]
  },
  {
   "cell_type": "code",
   "execution_count": 3,
   "metadata": {},
   "outputs": [],
   "source": [
    "traf.rename(columns={'tmc_code':'tmc'}, inplace = True)"
   ]
  },
  {
   "cell_type": "code",
   "execution_count": 4,
   "metadata": {},
   "outputs": [],
   "source": [
    "main = pd.merge(forbes,traf,on= 'tmc', how = 'inner')"
   ]
  },
  {
   "cell_type": "code",
   "execution_count": 5,
   "metadata": {},
   "outputs": [],
   "source": [
    "main.rename(columns={'measurement_tstamp':'Date'}, inplace=True)"
   ]
  },
  {
   "cell_type": "code",
   "execution_count": 6,
   "metadata": {},
   "outputs": [],
   "source": [
    "EST = main.loc[main.direction == 'EASTBOUND',:]"
   ]
  },
  {
   "cell_type": "code",
   "execution_count": 7,
   "metadata": {},
   "outputs": [
    {
     "name": "stderr",
     "output_type": "stream",
     "text": [
      "C:\\python\\lib\\site-packages\\ipykernel_launcher.py:2: SettingWithCopyWarning: \n",
      "A value is trying to be set on a copy of a slice from a DataFrame.\n",
      "Try using .loc[row_indexer,col_indexer] = value instead\n",
      "\n",
      "See the caveats in the documentation: http://pandas.pydata.org/pandas-docs/stable/indexing.html#indexing-view-versus-copy\n",
      "  \n",
      "C:\\python\\lib\\site-packages\\ipykernel_launcher.py:3: SettingWithCopyWarning: \n",
      "A value is trying to be set on a copy of a slice from a DataFrame.\n",
      "Try using .loc[row_indexer,col_indexer] = value instead\n",
      "\n",
      "See the caveats in the documentation: http://pandas.pydata.org/pandas-docs/stable/indexing.html#indexing-view-versus-copy\n",
      "  This is separate from the ipykernel package so we can avoid doing imports until\n"
     ]
    }
   ],
   "source": [
    "import datetime as dt\n",
    "EST['Date'] = pd.to_datetime(EST['Date'])\n",
    "EST['hour'] = EST['Date'].dt.hour "
   ]
  },
  {
   "cell_type": "code",
   "execution_count": 8,
   "metadata": {},
   "outputs": [],
   "source": [
    "import datetime\n",
    "t1 = pd.to_datetime('3-7-2018')\n",
    "t2 = pd.to_datetime('5-21-2018')\n",
    "t3 = pd.to_datetime('8-14-2018')"
   ]
  },
  {
   "cell_type": "code",
   "execution_count": 9,
   "metadata": {},
   "outputs": [],
   "source": [
    "traf1= EST[EST[\"Date\"].between(t1,t2)]\n",
    "traf2 = EST[EST[\"Date\"].between(t2,t3)]"
   ]
  },
  {
   "cell_type": "code",
   "execution_count": 10,
   "metadata": {},
   "outputs": [],
   "source": [
    "MRNGG = traf1.loc[(traf1.hour >= 7) & (traf1.hour < 9),:]\n",
    "AFT = traf1.loc[(traf1.hour >= 10) & (traf1.hour <15 ),:]\n",
    "EVN = traf1.loc[(traf1.hour >= 16) & (traf1.hour <18 ),:]\n"
   ]
  },
  {
   "cell_type": "code",
   "execution_count": 11,
   "metadata": {},
   "outputs": [
    {
     "data": {
      "text/plain": [
       "Text(0,0.5,'Count of cars')"
      ]
     },
     "execution_count": 11,
     "metadata": {},
     "output_type": "execute_result"
    },
    {
     "data": {
      "image/png": "[encoded data removed]",
      "text/plain": [
       "<matplotlib.figure.Figure at 0x26a00028668>"
      ]
     },
     "metadata": {},
     "output_type": "display_data"
    }
   ],
   "source": [
    "# for time between 7:00 AM - 9 : 00 PM\n",
    "import matplotlib.pyplot as plt\n",
    "%matplotlib inline\n",
    "bin = [0,10,20,30,40]\n",
    "plt.hist(MRNGG['speed'],rwidth = .9, bins = bin , color = 'r')\n",
    "plt.xlabel('speed range')\n",
    "plt.ylabel('Count of cars')"
   ]
  },
  {
   "cell_type": "code",
   "execution_count": 12,
   "metadata": {},
   "outputs": [
    {
     "data": {
      "text/plain": [
       "Text(0,0.5,'Count of cars')"
      ]
     },
     "execution_count": 12,
     "metadata": {},
     "output_type": "execute_result"
    },
    {
     "data": {
      "image/png": "[encoded data removed]",
      "text/plain": [
       "<matplotlib.figure.Figure at 0x26a00037710>"
      ]
     },
     "metadata": {},
     "output_type": "display_data"
    }
   ],
   "source": [
    "%matplotlib inline\n",
    "bin = [0,10,20,30,40]\n",
    "plt.hist(AFT['speed'],rwidth = .9, bins = bin , color = 'g')\n",
    "plt.xlabel('speed range')\n",
    "plt.ylabel('Count of cars')"
   ]
  },
  {
   "cell_type": "code",
   "execution_count": 13,
   "metadata": {},
   "outputs": [
    {
     "data": {
      "text/plain": [
       "Text(0,0.5,'Count of cars')"
      ]
     },
     "execution_count": 13,
     "metadata": {},
     "output_type": "execute_result"
    },
    {
     "data": {
      "image/png": "[encoded data removed]",
      "text/plain": [
       "<matplotlib.figure.Figure at 0x26a2502a588>"
      ]
     },
     "metadata": {},
     "output_type": "display_data"
    }
   ],
   "source": [
    "%matplotlib inline\n",
    "bin = [0,10,20,30,40]\n",
    "plt.hist(EVN['speed'],rwidth = .9, bins = bin )\n",
    "plt.xlabel('speed range')\n",
    "plt.ylabel('Count of cars')"
   ]
  },
  {
   "cell_type": "code",
   "execution_count": 14,
   "metadata": {},
   "outputs": [],
   "source": [
    "MRNGG1 = traf2.loc[(traf2.hour >= 7) & (traf2.hour < 9),:]\n",
    "AFT1 = traf2.loc[(traf2.hour >= 10) & (traf2.hour <15 ),:]\n",
    "EVN1 = traf2.loc[(traf2.hour >= 16) & (traf2.hour <18 ),:]\n"
   ]
  },
  {
   "cell_type": "code",
   "execution_count": 15,
   "metadata": {},
   "outputs": [
    {
     "data": {
      "text/plain": [
       "Text(0,0.5,'Count of cars')"
      ]
     },
     "execution_count": 15,
     "metadata": {},
     "output_type": "execute_result"
    },
    {
     "data": {
      "image/png": "[encoded data removed]",
      "text/plain": [
       "<matplotlib.figure.Figure at 0x26a2505d5f8>"
      ]
     },
     "metadata": {},
     "output_type": "display_data"
    }
   ],
   "source": [
    "import matplotlib.pyplot as plt\n",
    "%matplotlib inline\n",
    "bin = [0,10,20,30,40]\n",
    "plt.hist(MRNGG1['speed'],rwidth = .9, bins = bin , color = 'r')\n",
    "plt.xlabel('speed range')\n",
    "plt.ylabel('Count of cars')"
   ]
  },
  {
   "cell_type": "code",
   "execution_count": 16,
   "metadata": {},
   "outputs": [
    {
     "data": {
      "text/plain": [
       "Text(0,0.5,'Count of cars')"
      ]
     },
     "execution_count": 16,
     "metadata": {},
     "output_type": "execute_result"
    },
    {
     "data": {
      "image/png": "[encoded data removed]",
      "text/plain": [
       "<matplotlib.figure.Figure at 0x26a250549e8>"
      ]
     },
     "metadata": {},
     "output_type": "display_data"
    }
   ],
   "source": [
    "%matplotlib inline\n",
    "bin = [0,10,20,30,40]\n",
    "plt.hist(AFT1['speed'],rwidth = .9, bins = bin , color = 'g')\n",
    "plt.xlabel('speed range')\n",
    "plt.ylabel('Count of cars')"
   ]
  },
  {
   "cell_type": "code",
   "execution_count": 17,
   "metadata": {},
   "outputs": [
    {
     "data": {
      "text/plain": [
       "Text(0,0.5,'Count of cars')"
      ]
     },
     "execution_count": 17,
     "metadata": {},
     "output_type": "execute_result"
    },
    {
     "data": {
      "image/png": "[encoded data removed]",
      "text/plain": [
       "<matplotlib.figure.Figure at 0x26a250bcda0>"
      ]
     },
     "metadata": {},
     "output_type": "display_data"
    }
   ],
   "source": [
    "%matplotlib inline\n",
    "bin = [0,10,20,30,40]\n",
    "plt.hist(EVN1['speed'],rwidth = .9, bins = bin )\n",
    "plt.xlabel('speed range')\n",
    "plt.ylabel('Count of cars')"
   ]
  },
  {
   "cell_type": "code",
   "execution_count": null,
   "metadata": {},
   "outputs": [],
   "source": []
  }
 ],
 "metadata": {
  "kernelspec": {
   "display_name": "Python 3",
   "language": "python",
   "name": "python3"
  },
  "language_info": {
   "codemirror_mode": {
    "name": "ipython",
    "version": 3
   },
   "file_extension": ".py",
   "mimetype": "text/x-python",
   "name": "python",
   "nbconvert_exporter": "python",
   "pygments_lexer": "ipython3",
   "version": "3.6.4"
  }
 },
 "nbformat": 4,
 "nbformat_minor": 2
}
