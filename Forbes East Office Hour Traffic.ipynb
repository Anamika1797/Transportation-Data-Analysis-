{
 "cells": [
  {
   "cell_type": "code",
   "execution_count": 1,
   "metadata": {},
   "outputs": [],
   "source": [
    "import pandas as pd\n",
    "traf = pd.read_csv('Forbes-Project.csv')\n",
    "TMC = pd.read_csv('TMC_Identification_REVISED.csv')"
   ]
  },
  {
   "cell_type": "code",
   "execution_count": 2,
   "metadata": {},
   "outputs": [],
   "source": [
    "traf = traf.loc[traf.confidence_score >= 30 , :]\n",
    "forbes= TMC.loc[TMC.road == 'FORBES AVE',:]\n",
    "EST = forbes.loc[forbes.direction == 'EASTBOUND',:]"
   ]
  },
  {
   "cell_type": "code",
   "execution_count": 3,
   "metadata": {},
   "outputs": [],
   "source": [
    "traf.rename(columns={'tmc_code':'tmc'}, inplace = True)"
   ]
  },
  {
   "cell_type": "code",
   "execution_count": 4,
   "metadata": {},
   "outputs": [],
   "source": [
    "main = pd.merge(EST,traf,on= 'tmc', how = 'inner')"
   ]
  },
  {
   "cell_type": "code",
   "execution_count": 5,
   "metadata": {},
   "outputs": [
    {
     "data": {
      "text/html": [
       "<div>\n",
       "<style scoped>\n",
       "    .dataframe tbody tr th:only-of-type {\n",
       "        vertical-align: middle;\n",
       "    }\n",
       "\n",
       "    .dataframe tbody tr th {\n",
       "        vertical-align: top;\n",
       "    }\n",
       "\n",
       "    .dataframe thead th {\n",
       "        text-align: right;\n",
       "    }\n",
       "</style>\n",
       "<table border=\"1\" class=\"dataframe\">\n",
       "  <thead>\n",
       "    <tr style=\"text-align: right;\">\n",
       "      <th></th>\n",
       "      <th>tmc</th>\n",
       "      <th>road</th>\n",
       "      <th>direction</th>\n",
       "      <th>intersection</th>\n",
       "      <th>state</th>\n",
       "      <th>county</th>\n",
       "      <th>zip</th>\n",
       "      <th>start_latitude</th>\n",
       "      <th>start_longitude</th>\n",
       "      <th>end_latitude</th>\n",
       "      <th>...</th>\n",
       "      <th>Unnamed: 18</th>\n",
       "      <th>start</th>\n",
       "      <th>end</th>\n",
       "      <th>measurement_tstamp</th>\n",
       "      <th>speed</th>\n",
       "      <th>average_speed</th>\n",
       "      <th>reference_speed</th>\n",
       "      <th>travel_time_minutes</th>\n",
       "      <th>confidence_score</th>\n",
       "      <th>cvalue</th>\n",
       "    </tr>\n",
       "  </thead>\n",
       "  <tbody>\n",
       "    <tr>\n",
       "      <th>0</th>\n",
       "      <td>104+09116</td>\n",
       "      <td>FORBES AVE</td>\n",
       "      <td>EASTBOUND</td>\n",
       "      <td>BEELER ST</td>\n",
       "      <td>PA</td>\n",
       "      <td>ALLEGHENY</td>\n",
       "      <td>15213.0</td>\n",
       "      <td>40.44392</td>\n",
       "      <td>-79.95073</td>\n",
       "      <td>40.44389</td>\n",
       "      <td>...</td>\n",
       "      <td>NaN</td>\n",
       "      <td>Beeler</td>\n",
       "      <td>S_Bellefield</td>\n",
       "      <td>2017-01-01 05:35:00</td>\n",
       "      <td>23.00</td>\n",
       "      <td>21.0</td>\n",
       "      <td>21.0</td>\n",
       "      <td>1.67</td>\n",
       "      <td>30.0</td>\n",
       "      <td>100.0</td>\n",
       "    </tr>\n",
       "    <tr>\n",
       "      <th>1</th>\n",
       "      <td>104+09116</td>\n",
       "      <td>FORBES AVE</td>\n",
       "      <td>EASTBOUND</td>\n",
       "      <td>BEELER ST</td>\n",
       "      <td>PA</td>\n",
       "      <td>ALLEGHENY</td>\n",
       "      <td>15213.0</td>\n",
       "      <td>40.44392</td>\n",
       "      <td>-79.95073</td>\n",
       "      <td>40.44389</td>\n",
       "      <td>...</td>\n",
       "      <td>NaN</td>\n",
       "      <td>Beeler</td>\n",
       "      <td>S_Bellefield</td>\n",
       "      <td>2017-01-01 05:40:00</td>\n",
       "      <td>23.00</td>\n",
       "      <td>21.0</td>\n",
       "      <td>21.0</td>\n",
       "      <td>1.67</td>\n",
       "      <td>30.0</td>\n",
       "      <td>100.0</td>\n",
       "    </tr>\n",
       "    <tr>\n",
       "      <th>2</th>\n",
       "      <td>104+09116</td>\n",
       "      <td>FORBES AVE</td>\n",
       "      <td>EASTBOUND</td>\n",
       "      <td>BEELER ST</td>\n",
       "      <td>PA</td>\n",
       "      <td>ALLEGHENY</td>\n",
       "      <td>15213.0</td>\n",
       "      <td>40.44392</td>\n",
       "      <td>-79.95073</td>\n",
       "      <td>40.44389</td>\n",
       "      <td>...</td>\n",
       "      <td>NaN</td>\n",
       "      <td>Beeler</td>\n",
       "      <td>S_Bellefield</td>\n",
       "      <td>2017-01-01 05:45:00</td>\n",
       "      <td>23.00</td>\n",
       "      <td>21.0</td>\n",
       "      <td>21.0</td>\n",
       "      <td>1.67</td>\n",
       "      <td>30.0</td>\n",
       "      <td>100.0</td>\n",
       "    </tr>\n",
       "    <tr>\n",
       "      <th>3</th>\n",
       "      <td>104+09116</td>\n",
       "      <td>FORBES AVE</td>\n",
       "      <td>EASTBOUND</td>\n",
       "      <td>BEELER ST</td>\n",
       "      <td>PA</td>\n",
       "      <td>ALLEGHENY</td>\n",
       "      <td>15213.0</td>\n",
       "      <td>40.44392</td>\n",
       "      <td>-79.95073</td>\n",
       "      <td>40.44389</td>\n",
       "      <td>...</td>\n",
       "      <td>NaN</td>\n",
       "      <td>Beeler</td>\n",
       "      <td>S_Bellefield</td>\n",
       "      <td>2017-01-01 05:50:00</td>\n",
       "      <td>23.00</td>\n",
       "      <td>21.0</td>\n",
       "      <td>21.0</td>\n",
       "      <td>1.67</td>\n",
       "      <td>30.0</td>\n",
       "      <td>100.0</td>\n",
       "    </tr>\n",
       "    <tr>\n",
       "      <th>4</th>\n",
       "      <td>104+09116</td>\n",
       "      <td>FORBES AVE</td>\n",
       "      <td>EASTBOUND</td>\n",
       "      <td>BEELER ST</td>\n",
       "      <td>PA</td>\n",
       "      <td>ALLEGHENY</td>\n",
       "      <td>15213.0</td>\n",
       "      <td>40.44392</td>\n",
       "      <td>-79.95073</td>\n",
       "      <td>40.44389</td>\n",
       "      <td>...</td>\n",
       "      <td>NaN</td>\n",
       "      <td>Beeler</td>\n",
       "      <td>S_Bellefield</td>\n",
       "      <td>2017-01-01 07:00:00</td>\n",
       "      <td>28.00</td>\n",
       "      <td>23.0</td>\n",
       "      <td>21.0</td>\n",
       "      <td>1.37</td>\n",
       "      <td>30.0</td>\n",
       "      <td>100.0</td>\n",
       "    </tr>\n",
       "    <tr>\n",
       "      <th>...</th>\n",
       "      <td>...</td>\n",
       "      <td>...</td>\n",
       "      <td>...</td>\n",
       "      <td>...</td>\n",
       "      <td>...</td>\n",
       "      <td>...</td>\n",
       "      <td>...</td>\n",
       "      <td>...</td>\n",
       "      <td>...</td>\n",
       "      <td>...</td>\n",
       "      <td>...</td>\n",
       "      <td>...</td>\n",
       "      <td>...</td>\n",
       "      <td>...</td>\n",
       "      <td>...</td>\n",
       "      <td>...</td>\n",
       "      <td>...</td>\n",
       "      <td>...</td>\n",
       "      <td>...</td>\n",
       "      <td>...</td>\n",
       "      <td>...</td>\n",
       "    </tr>\n",
       "    <tr>\n",
       "      <th>119611</th>\n",
       "      <td>104+09116</td>\n",
       "      <td>FORBES AVE</td>\n",
       "      <td>EASTBOUND</td>\n",
       "      <td>BEELER ST</td>\n",
       "      <td>PA</td>\n",
       "      <td>ALLEGHENY</td>\n",
       "      <td>15213.0</td>\n",
       "      <td>40.44392</td>\n",
       "      <td>-79.95073</td>\n",
       "      <td>40.44389</td>\n",
       "      <td>...</td>\n",
       "      <td>NaN</td>\n",
       "      <td>Beeler</td>\n",
       "      <td>S_Bellefield</td>\n",
       "      <td>2019-06-04 11:10:00</td>\n",
       "      <td>18.39</td>\n",
       "      <td>16.0</td>\n",
       "      <td>19.0</td>\n",
       "      <td>2.09</td>\n",
       "      <td>30.0</td>\n",
       "      <td>100.0</td>\n",
       "    </tr>\n",
       "    <tr>\n",
       "      <th>119612</th>\n",
       "      <td>104+09116</td>\n",
       "      <td>FORBES AVE</td>\n",
       "      <td>EASTBOUND</td>\n",
       "      <td>BEELER ST</td>\n",
       "      <td>PA</td>\n",
       "      <td>ALLEGHENY</td>\n",
       "      <td>15213.0</td>\n",
       "      <td>40.44392</td>\n",
       "      <td>-79.95073</td>\n",
       "      <td>40.44389</td>\n",
       "      <td>...</td>\n",
       "      <td>NaN</td>\n",
       "      <td>Beeler</td>\n",
       "      <td>S_Bellefield</td>\n",
       "      <td>2019-06-04 11:15:00</td>\n",
       "      <td>17.32</td>\n",
       "      <td>16.0</td>\n",
       "      <td>19.0</td>\n",
       "      <td>2.21</td>\n",
       "      <td>30.0</td>\n",
       "      <td>100.0</td>\n",
       "    </tr>\n",
       "    <tr>\n",
       "      <th>119613</th>\n",
       "      <td>104+09116</td>\n",
       "      <td>FORBES AVE</td>\n",
       "      <td>EASTBOUND</td>\n",
       "      <td>BEELER ST</td>\n",
       "      <td>PA</td>\n",
       "      <td>ALLEGHENY</td>\n",
       "      <td>15213.0</td>\n",
       "      <td>40.44392</td>\n",
       "      <td>-79.95073</td>\n",
       "      <td>40.44389</td>\n",
       "      <td>...</td>\n",
       "      <td>NaN</td>\n",
       "      <td>Beeler</td>\n",
       "      <td>S_Bellefield</td>\n",
       "      <td>2019-06-04 11:20:00</td>\n",
       "      <td>18.00</td>\n",
       "      <td>16.0</td>\n",
       "      <td>19.0</td>\n",
       "      <td>2.13</td>\n",
       "      <td>30.0</td>\n",
       "      <td>100.0</td>\n",
       "    </tr>\n",
       "    <tr>\n",
       "      <th>119614</th>\n",
       "      <td>104+09116</td>\n",
       "      <td>FORBES AVE</td>\n",
       "      <td>EASTBOUND</td>\n",
       "      <td>BEELER ST</td>\n",
       "      <td>PA</td>\n",
       "      <td>ALLEGHENY</td>\n",
       "      <td>15213.0</td>\n",
       "      <td>40.44392</td>\n",
       "      <td>-79.95073</td>\n",
       "      <td>40.44389</td>\n",
       "      <td>...</td>\n",
       "      <td>NaN</td>\n",
       "      <td>Beeler</td>\n",
       "      <td>S_Bellefield</td>\n",
       "      <td>2019-06-04 11:25:00</td>\n",
       "      <td>18.00</td>\n",
       "      <td>16.0</td>\n",
       "      <td>19.0</td>\n",
       "      <td>2.13</td>\n",
       "      <td>30.0</td>\n",
       "      <td>100.0</td>\n",
       "    </tr>\n",
       "    <tr>\n",
       "      <th>119615</th>\n",
       "      <td>104+09116</td>\n",
       "      <td>FORBES AVE</td>\n",
       "      <td>EASTBOUND</td>\n",
       "      <td>BEELER ST</td>\n",
       "      <td>PA</td>\n",
       "      <td>ALLEGHENY</td>\n",
       "      <td>15213.0</td>\n",
       "      <td>40.44392</td>\n",
       "      <td>-79.95073</td>\n",
       "      <td>40.44389</td>\n",
       "      <td>...</td>\n",
       "      <td>NaN</td>\n",
       "      <td>Beeler</td>\n",
       "      <td>S_Bellefield</td>\n",
       "      <td>2019-06-04 11:45:00</td>\n",
       "      <td>15.00</td>\n",
       "      <td>16.0</td>\n",
       "      <td>19.0</td>\n",
       "      <td>2.56</td>\n",
       "      <td>30.0</td>\n",
       "      <td>100.0</td>\n",
       "    </tr>\n",
       "  </tbody>\n",
       "</table>\n",
       "<p>119616 rows × 28 columns</p>\n",
       "</div>"
      ],
      "text/plain": [
       "              tmc        road  direction intersection state     county  \\\n",
       "0       104+09116  FORBES AVE  EASTBOUND    BEELER ST    PA  ALLEGHENY   \n",
       "1       104+09116  FORBES AVE  EASTBOUND    BEELER ST    PA  ALLEGHENY   \n",
       "2       104+09116  FORBES AVE  EASTBOUND    BEELER ST    PA  ALLEGHENY   \n",
       "3       104+09116  FORBES AVE  EASTBOUND    BEELER ST    PA  ALLEGHENY   \n",
       "4       104+09116  FORBES AVE  EASTBOUND    BEELER ST    PA  ALLEGHENY   \n",
       "...           ...         ...        ...          ...   ...        ...   \n",
       "119611  104+09116  FORBES AVE  EASTBOUND    BEELER ST    PA  ALLEGHENY   \n",
       "119612  104+09116  FORBES AVE  EASTBOUND    BEELER ST    PA  ALLEGHENY   \n",
       "119613  104+09116  FORBES AVE  EASTBOUND    BEELER ST    PA  ALLEGHENY   \n",
       "119614  104+09116  FORBES AVE  EASTBOUND    BEELER ST    PA  ALLEGHENY   \n",
       "119615  104+09116  FORBES AVE  EASTBOUND    BEELER ST    PA  ALLEGHENY   \n",
       "\n",
       "            zip  start_latitude  start_longitude  end_latitude  ...  \\\n",
       "0       15213.0        40.44392        -79.95073      40.44389  ...   \n",
       "1       15213.0        40.44392        -79.95073      40.44389  ...   \n",
       "2       15213.0        40.44392        -79.95073      40.44389  ...   \n",
       "3       15213.0        40.44392        -79.95073      40.44389  ...   \n",
       "4       15213.0        40.44392        -79.95073      40.44389  ...   \n",
       "...         ...             ...              ...           ...  ...   \n",
       "119611  15213.0        40.44392        -79.95073      40.44389  ...   \n",
       "119612  15213.0        40.44392        -79.95073      40.44389  ...   \n",
       "119613  15213.0        40.44392        -79.95073      40.44389  ...   \n",
       "119614  15213.0        40.44392        -79.95073      40.44389  ...   \n",
       "119615  15213.0        40.44392        -79.95073      40.44389  ...   \n",
       "\n",
       "        Unnamed: 18   start           end   measurement_tstamp  speed  \\\n",
       "0               NaN  Beeler  S_Bellefield  2017-01-01 05:35:00  23.00   \n",
       "1               NaN  Beeler  S_Bellefield  2017-01-01 05:40:00  23.00   \n",
       "2               NaN  Beeler  S_Bellefield  2017-01-01 05:45:00  23.00   \n",
       "3               NaN  Beeler  S_Bellefield  2017-01-01 05:50:00  23.00   \n",
       "4               NaN  Beeler  S_Bellefield  2017-01-01 07:00:00  28.00   \n",
       "...             ...     ...           ...                  ...    ...   \n",
       "119611          NaN  Beeler  S_Bellefield  2019-06-04 11:10:00  18.39   \n",
       "119612          NaN  Beeler  S_Bellefield  2019-06-04 11:15:00  17.32   \n",
       "119613          NaN  Beeler  S_Bellefield  2019-06-04 11:20:00  18.00   \n",
       "119614          NaN  Beeler  S_Bellefield  2019-06-04 11:25:00  18.00   \n",
       "119615          NaN  Beeler  S_Bellefield  2019-06-04 11:45:00  15.00   \n",
       "\n",
       "       average_speed reference_speed  travel_time_minutes  confidence_score  \\\n",
       "0               21.0            21.0                 1.67              30.0   \n",
       "1               21.0            21.0                 1.67              30.0   \n",
       "2               21.0            21.0                 1.67              30.0   \n",
       "3               21.0            21.0                 1.67              30.0   \n",
       "4               23.0            21.0                 1.37              30.0   \n",
       "...              ...             ...                  ...               ...   \n",
       "119611          16.0            19.0                 2.09              30.0   \n",
       "119612          16.0            19.0                 2.21              30.0   \n",
       "119613          16.0            19.0                 2.13              30.0   \n",
       "119614          16.0            19.0                 2.13              30.0   \n",
       "119615          16.0            19.0                 2.56              30.0   \n",
       "\n",
       "       cvalue  \n",
       "0       100.0  \n",
       "1       100.0  \n",
       "2       100.0  \n",
       "3       100.0  \n",
       "4       100.0  \n",
       "...       ...  \n",
       "119611  100.0  \n",
       "119612  100.0  \n",
       "119613  100.0  \n",
       "119614  100.0  \n",
       "119615  100.0  \n",
       "\n",
       "[119616 rows x 28 columns]"
      ]
     },
     "execution_count": 5,
     "metadata": {},
     "output_type": "execute_result"
    }
   ],
   "source": [
    "main"
   ]
  },
  {
   "cell_type": "code",
   "execution_count": 37,
   "metadata": {},
   "outputs": [],
   "source": [
    "main.rename(columns={'measurement_tstamp':'Date'}, inplace=True)\n",
    "import datetime as dt\n",
    "main['Date'] = pd.to_datetime(main['Date'])"
   ]
  },
  {
   "cell_type": "code",
   "execution_count": 38,
   "metadata": {},
   "outputs": [],
   "source": [
    "main['Weekday'] = main['Date'].dt.dayofweek"
   ]
  },
  {
   "cell_type": "code",
   "execution_count": 39,
   "metadata": {},
   "outputs": [],
   "source": [
    " WD = main.loc[main.Weekday != 0,:]"
   ]
  },
  {
   "cell_type": "code",
   "execution_count": 40,
   "metadata": {},
   "outputs": [],
   "source": [
    "WD = WD.groupby(pd.Grouper(key = 'Date',freq = '30T')).mean()"
   ]
  },
  {
   "cell_type": "code",
   "execution_count": 41,
   "metadata": {},
   "outputs": [],
   "source": [
    "WD = WD.reset_index()"
   ]
  },
  {
   "cell_type": "code",
   "execution_count": 42,
   "metadata": {},
   "outputs": [],
   "source": [
    "WD['hour'] = WD['Date'].dt.hour "
   ]
  },
  {
   "cell_type": "code",
   "execution_count": 43,
   "metadata": {},
   "outputs": [],
   "source": [
    "M = WD.loc[(WD.hour >= 7) & (WD.hour < 10),:]\n",
    "E = WD.loc[(WD.hour >= 15) & (WD.hour <19 ),:]\n"
   ]
  },
  {
   "cell_type": "code",
   "execution_count": 44,
   "metadata": {},
   "outputs": [],
   "source": [
    "import datetime\n",
    "t1 = pd.to_datetime('3-7-2018')\n",
    "t2 = pd.to_datetime('5-21-2018')\n",
    "t3 = pd.to_datetime('8-14-2018')\n",
    "t4 = pd.to_datetime('3-22-2019')\n",
    "t5 = pd.to_datetime('04-06-2019')"
   ]
  },
  {
   "cell_type": "code",
   "execution_count": 45,
   "metadata": {},
   "outputs": [],
   "source": [
    "traf1= M[M[\"Date\"].between(t1,t2)]\n",
    "traf2 =M[M[\"Date\"].between(t2,t3)]\n",
    "traf3 = M[M['Date'].between(t3,t4)]\n",
    "traf4 = M[M['Date'].between(t4,t5)]\n",
    "traf5=  E[E[\"Date\"].between(t1,t2)]\n",
    "traf6 = E[E[\"Date\"].between(t2,t3)]\n",
    "traf7 = E[E['Date'].between(t3,t4)]\n",
    "traf8 = E[E['Date'].between(t4,t5)]"
   ]
  },
  {
   "cell_type": "code",
   "execution_count": 46,
   "metadata": {},
   "outputs": [
    {
     "data": {
      "text/plain": [
       "Text(0,0.5,'Count of cars')"
      ]
     },
     "execution_count": 46,
     "metadata": {},
     "output_type": "execute_result"
    },
    {
     "data": {
      "image/png": "[encoded data removed]",
      "text/plain": [
       "<matplotlib.figure.Figure at 0x252208850b8>"
      ]
     },
     "metadata": {},
     "output_type": "display_data"
    }
   ],
   "source": [
    "# for time between 7:00 AM - 9 : 00 PM\n",
    "import matplotlib.pyplot as plt\n",
    "%matplotlib inline\n",
    "bin = [0,2,4,6,8,10,12,14,16,18,20,22,24,26,28,30,32,34,36,38,40]\n",
    "plt.hist(traf1['speed'].dropna().values,rwidth = .9, bins = bin , color = 'r')\n",
    "plt.title('Forbes Eastbound Between 7AM- 10AM /n Between 3/7/18-5/21/18')\n",
    "plt.xlabel('speed range')\n",
    "plt.ylabel('Count of cars')"
   ]
  },
  {
   "cell_type": "code",
   "execution_count": 47,
   "metadata": {},
   "outputs": [
    {
     "data": {
      "text/plain": [
       "17.97629211944517"
      ]
     },
     "execution_count": 47,
     "metadata": {},
     "output_type": "execute_result"
    }
   ],
   "source": [
    "M['speed'].mean()"
   ]
  },
  {
   "cell_type": "code",
   "execution_count": 48,
   "metadata": {},
   "outputs": [
    {
     "data": {
      "text/plain": [
       "Text(0,0.5,'Count of cars')"
      ]
     },
     "execution_count": 48,
     "metadata": {},
     "output_type": "execute_result"
    },
    {
     "data": {
      "image/png": "[encoded data removed]",
      "text/plain": [
       "<matplotlib.figure.Figure at 0x25213dbb7f0>"
      ]
     },
     "metadata": {},
     "output_type": "display_data"
    }
   ],
   "source": [
    "%matplotlib inline\n",
    "bin = [0,2,4,6,8,10,12,14,16,18,20,22,24,26,28,30,32,34,36,38,40]\n",
    "plt.hist(traf5['speed'].dropna().values,rwidth = .9, bins = bin )\n",
    "plt.title('Forbes Eastbound Between 4PM- 7PM /n Between 3/7/18-5/21/18')\n",
    "plt.xlabel('speed range')\n",
    "plt.ylabel('Count of cars')"
   ]
  },
  {
   "cell_type": "code",
   "execution_count": 49,
   "metadata": {},
   "outputs": [
    {
     "data": {
      "text/plain": [
       "Text(0,0.5,'Count of cars')"
      ]
     },
     "execution_count": 49,
     "metadata": {},
     "output_type": "execute_result"
    },
    {
     "data": {
      "image/png": "[encoded data removed]",
      "text/plain": [
       "<matplotlib.figure.Figure at 0x25213ffbc50>"
      ]
     },
     "metadata": {},
     "output_type": "display_data"
    }
   ],
   "source": [
    "# for time between 7:00 AM - 9 : 00 PM\n",
    "import matplotlib.pyplot as plt\n",
    "%matplotlib inline\n",
    "bin = [0,2,4,6,8,10,12,14,16,18,20,22,24,26,28,30,32,34,36,38,40]\n",
    "plt.hist(traf2['speed'].dropna().values,rwidth = .9, bins = bin , color = 'r')\n",
    "plt.title('Forbes Eastbound Between 7AM- 10AM /n Between 5/21/18-8/14/18')\n",
    "plt.xlabel('speed range')\n",
    "plt.ylabel('Count of cars')"
   ]
  },
  {
   "cell_type": "code",
   "execution_count": 50,
   "metadata": {},
   "outputs": [
    {
     "data": {
      "text/plain": [
       "Text(0,0.5,'Count of cars')"
      ]
     },
     "execution_count": 50,
     "metadata": {},
     "output_type": "execute_result"
    },
    {
     "data": {
      "image/png": "[encoded data removed]",
      "text/plain": [
       "<matplotlib.figure.Figure at 0x2521432c7b8>"
      ]
     },
     "metadata": {},
     "output_type": "display_data"
    }
   ],
   "source": [
    "%matplotlib inline\n",
    "bin = [0,2,4,6,8,10,12,14,16,18,20,22,24,26,28,30,32,34,36,38,40]\n",
    "plt.hist(traf6['speed'].dropna().values,rwidth = .9, bins = bin )\n",
    "plt.title('Forbes Eastbound Between 4PM- 7PM /n Between 5/21/18-8/14/18')\n",
    "plt.xlabel('speed range')\n",
    "plt.ylabel('Count of cars')"
   ]
  },
  {
   "cell_type": "code",
   "execution_count": 51,
   "metadata": {},
   "outputs": [
    {
     "data": {
      "text/plain": [
       "Text(0,0.5,'Count of cars')"
      ]
     },
     "execution_count": 51,
     "metadata": {},
     "output_type": "execute_result"
    },
    {
     "data": {
      "image/png": "[encoded data removed]",
      "text/plain": [
       "<matplotlib.figure.Figure at 0x2521432c358>"
      ]
     },
     "metadata": {},
     "output_type": "display_data"
    }
   ],
   "source": [
    "# for time between 7:00 AM - 9 : 00 PM\n",
    "import matplotlib.pyplot as plt\n",
    "%matplotlib inline\n",
    "bin = [0,2,4,6,8,10,12,14,16,18,20,22,24,26,28,30,32,34,36,38,40]\n",
    "plt.hist(traf3['speed'].dropna().values,rwidth = .9, bins = bin , color = 'r')\n",
    "plt.title('Forbes Eastbound Between 7AM- 10AM /n Between 8/14/18-3/22/19')\n",
    "plt.xlabel('speed range')\n",
    "plt.ylabel('Count of cars')"
   ]
  },
  {
   "cell_type": "code",
   "execution_count": 52,
   "metadata": {},
   "outputs": [
    {
     "data": {
      "text/plain": [
       "Text(0,0.5,'Count of cars')"
      ]
     },
     "execution_count": 52,
     "metadata": {},
     "output_type": "execute_result"
    },
    {
     "data": {
      "image/png": "[encoded data removed]",
      "text/plain": [
       "<matplotlib.figure.Figure at 0x2521432c320>"
      ]
     },
     "metadata": {},
     "output_type": "display_data"
    }
   ],
   "source": [
    "%matplotlib inline\n",
    "bin = [0,2,4,6,8,10,12,14,16,18,20,22,24,26,28,30,32,34,36,38,40]\n",
    "plt.hist(traf7['speed'].dropna().values,rwidth = .9, bins = bin )\n",
    "plt.title('Forbes Eastbound Between 4PM- 7PM /n Between 8/14/18-3/22/19')\n",
    "plt.xlabel('speed range')\n",
    "plt.ylabel('Count of cars')"
   ]
  },
  {
   "cell_type": "code",
   "execution_count": 53,
   "metadata": {},
   "outputs": [
    {
     "data": {
      "text/plain": [
       "Text(0,0.5,'Count of cars')"
      ]
     },
     "execution_count": 53,
     "metadata": {},
     "output_type": "execute_result"
    },
    {
     "data": {
      "image/png": "[encoded data removed]",
      "text/plain": [
       "<matplotlib.figure.Figure at 0x25213d6ea20>"
      ]
     },
     "metadata": {},
     "output_type": "display_data"
    }
   ],
   "source": [
    "# for time between 7:00 AM - 9 : 00 PM\n",
    "import matplotlib.pyplot as plt\n",
    "%matplotlib inline\n",
    "bin = [0,2,4,6,8,10,12,14,16,18,20,22,24,26,28,30,32,34,36,38,40]\n",
    "plt.hist(traf4['speed'].dropna().values,rwidth = .9, bins = bin , color = 'r')\n",
    "plt.title('Forbes Eastbound Between 7AM- 10AM /n Between 3/22/19-6/4/19')\n",
    "plt.xlabel('speed range')\n",
    "plt.ylabel('Count of cars')"
   ]
  },
  {
   "cell_type": "code",
   "execution_count": 54,
   "metadata": {},
   "outputs": [
    {
     "data": {
      "text/plain": [
       "Text(0,0.5,'Count of cars')"
      ]
     },
     "execution_count": 54,
     "metadata": {},
     "output_type": "execute_result"
    },
    {
     "data": {
      "image/png": "[encoded data removed]",
      "text/plain": [
       "<matplotlib.figure.Figure at 0x252208f92e8>"
      ]
     },
     "metadata": {},
     "output_type": "display_data"
    }
   ],
   "source": [
    "%matplotlib inline\n",
    "bin = [0,2,4,6,8,10,12,14,16,18,20,22,24,26,28,30,32,34,36,38,40]\n",
    "plt.hist(traf8['speed'].dropna().values,rwidth = .9, bins = bin )\n",
    "plt.title('Forbes Eastbound Between 4PM- 7PM /n Between 3/22/19-6/4/19')\n",
    "plt.xlabel('speed range')\n",
    "plt.ylabel('Count of cars')"
   ]
  },
  {
   "cell_type": "code",
   "execution_count": 55,
   "metadata": {},
   "outputs": [
    {
     "data": {
      "text/plain": [
       "17.111174197773405"
      ]
     },
     "execution_count": 55,
     "metadata": {},
     "output_type": "execute_result"
    }
   ],
   "source": [
    "traf5['speed'].mean()"
   ]
  },
  {
   "cell_type": "code",
   "execution_count": 56,
   "metadata": {},
   "outputs": [
    {
     "data": {
      "text/plain": [
       "17.354181872391166"
      ]
     },
     "execution_count": 56,
     "metadata": {},
     "output_type": "execute_result"
    }
   ],
   "source": [
    "traf6['speed'].mean()"
   ]
  },
  {
   "cell_type": "code",
   "execution_count": 57,
   "metadata": {},
   "outputs": [
    {
     "data": {
      "text/plain": [
       "14.651522297297307"
      ]
     },
     "execution_count": 57,
     "metadata": {},
     "output_type": "execute_result"
    }
   ],
   "source": [
    "traf7['speed'].mean()"
   ]
  },
  {
   "cell_type": "code",
   "execution_count": 58,
   "metadata": {},
   "outputs": [
    {
     "data": {
      "text/plain": [
       "16.601155228758174"
      ]
     },
     "execution_count": 58,
     "metadata": {},
     "output_type": "execute_result"
    }
   ],
   "source": [
    "traf8['speed'].mean()"
   ]
  },
  {
   "cell_type": "code",
   "execution_count": null,
   "metadata": {},
   "outputs": [],
   "source": []
  },
  {
   "cell_type": "code",
   "execution_count": null,
   "metadata": {},
   "outputs": [],
   "source": []
  },
  {
   "cell_type": "code",
   "execution_count": null,
   "metadata": {},
   "outputs": [],
   "source": []
  },
  {
   "cell_type": "code",
   "execution_count": null,
   "metadata": {},
   "outputs": [],
   "source": []
  }
 ],
 "metadata": {
  "kernelspec": {
   "display_name": "Python 3",
   "language": "python",
   "name": "python3"
  },
  "language_info": {
   "codemirror_mode": {
    "name": "ipython",
    "version": 3
   },
   "file_extension": ".py",
   "mimetype": "text/x-python",
   "name": "python",
   "nbconvert_exporter": "python",
   "pygments_lexer": "ipython3",
   "version": "3.8.8"
  }
 },
 "nbformat": 4,
 "nbformat_minor": 2
}
