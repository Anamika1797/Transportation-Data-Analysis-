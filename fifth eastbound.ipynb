{
 "cells": [
  {
   "cell_type": "code",
   "execution_count": 45,
   "metadata": {},
   "outputs": [],
   "source": [
    "import pandas as pd\n",
    "traf = pd.read_csv('Forbes-Project.csv')\n",
    "TMC = pd.read_csv('TMC_Identification.csv')\n"
   ]
  },
  {
   "cell_type": "code",
   "execution_count": 56,
   "metadata": {},
   "outputs": [
    {
     "data": {
      "text/html": [
       "<div>\n",
       "<style scoped>\n",
       "    .dataframe tbody tr th:only-of-type {\n",
       "        vertical-align: middle;\n",
       "    }\n",
       "\n",
       "    .dataframe tbody tr th {\n",
       "        vertical-align: top;\n",
       "    }\n",
       "\n",
       "    .dataframe thead th {\n",
       "        text-align: right;\n",
       "    }\n",
       "</style>\n",
       "<table border=\"1\" class=\"dataframe\">\n",
       "  <thead>\n",
       "    <tr style=\"text-align: right;\">\n",
       "      <th></th>\n",
       "      <th>tmc</th>\n",
       "      <th>road</th>\n",
       "      <th>direction</th>\n",
       "      <th>intersection</th>\n",
       "      <th>state</th>\n",
       "      <th>county</th>\n",
       "      <th>zip</th>\n",
       "      <th>start_latitude</th>\n",
       "      <th>start_longitude</th>\n",
       "      <th>end_latitude</th>\n",
       "      <th>end_longitude</th>\n",
       "      <th>miles</th>\n",
       "      <th>road_order</th>\n",
       "      <th>timezone_name</th>\n",
       "      <th>type</th>\n",
       "      <th>country</th>\n",
       "      <th>active_start_date</th>\n",
       "      <th>active_end_date</th>\n",
       "    </tr>\n",
       "  </thead>\n",
       "  <tbody>\n",
       "    <tr>\n",
       "      <th>0</th>\n",
       "      <td>104+09237</td>\n",
       "      <td>5TH AVE</td>\n",
       "      <td>EASTBOUND</td>\n",
       "      <td>WILKINS AVE</td>\n",
       "      <td>PA</td>\n",
       "      <td>ALLEGHENY</td>\n",
       "      <td>15213</td>\n",
       "      <td>40.44653</td>\n",
       "      <td>-79.95191</td>\n",
       "      <td>40.44781</td>\n",
       "      <td>-79.93722</td>\n",
       "      <td>0.779806</td>\n",
       "      <td>3.0</td>\n",
       "      <td>America/New_York</td>\n",
       "      <td>P1.11</td>\n",
       "      <td>USA</td>\n",
       "      <td>2019-04-16 17:00:00-04:00</td>\n",
       "      <td>NaN</td>\n",
       "    </tr>\n",
       "    <tr>\n",
       "      <th>1</th>\n",
       "      <td>104+09238</td>\n",
       "      <td>5TH AVE</td>\n",
       "      <td>EASTBOUND</td>\n",
       "      <td>SHADY AVE</td>\n",
       "      <td>PA</td>\n",
       "      <td>ALLEGHENY</td>\n",
       "      <td>15232</td>\n",
       "      <td>40.44781</td>\n",
       "      <td>-79.93722</td>\n",
       "      <td>40.45289</td>\n",
       "      <td>-79.92074</td>\n",
       "      <td>0.940722</td>\n",
       "      <td>4.0</td>\n",
       "      <td>America/New_York</td>\n",
       "      <td>P1.11</td>\n",
       "      <td>USA</td>\n",
       "      <td>2019-04-16 17:00:00-04:00</td>\n",
       "      <td>NaN</td>\n",
       "    </tr>\n",
       "    <tr>\n",
       "      <th>2</th>\n",
       "      <td>104-09237</td>\n",
       "      <td>5TH AVE</td>\n",
       "      <td>WESTBOUND</td>\n",
       "      <td>WILKINS AVE</td>\n",
       "      <td>PA</td>\n",
       "      <td>ALLEGHENY</td>\n",
       "      <td>15232</td>\n",
       "      <td>40.45289</td>\n",
       "      <td>-79.92074</td>\n",
       "      <td>40.44781</td>\n",
       "      <td>-79.93722</td>\n",
       "      <td>0.940722</td>\n",
       "      <td>4.0</td>\n",
       "      <td>America/New_York</td>\n",
       "      <td>P1.11</td>\n",
       "      <td>USA</td>\n",
       "      <td>2019-04-16 17:00:00-04:00</td>\n",
       "      <td>NaN</td>\n",
       "    </tr>\n",
       "    <tr>\n",
       "      <th>3</th>\n",
       "      <td>104-09236</td>\n",
       "      <td>5TH AVE</td>\n",
       "      <td>WESTBOUND</td>\n",
       "      <td>BELLEFIELD AVE</td>\n",
       "      <td>PA</td>\n",
       "      <td>ALLEGHENY</td>\n",
       "      <td>15213</td>\n",
       "      <td>40.44781</td>\n",
       "      <td>-79.93722</td>\n",
       "      <td>40.44653</td>\n",
       "      <td>-79.95191</td>\n",
       "      <td>0.779806</td>\n",
       "      <td>5.0</td>\n",
       "      <td>America/New_York</td>\n",
       "      <td>P1.11</td>\n",
       "      <td>USA</td>\n",
       "      <td>2019-04-16 17:00:00-04:00</td>\n",
       "      <td>NaN</td>\n",
       "    </tr>\n",
       "    <tr>\n",
       "      <th>4</th>\n",
       "      <td>104-09235</td>\n",
       "      <td>5TH AVE</td>\n",
       "      <td>WESTBOUND</td>\n",
       "      <td>CRAFT AVE</td>\n",
       "      <td>PA</td>\n",
       "      <td>ALLEGHENY</td>\n",
       "      <td>15213</td>\n",
       "      <td>40.44653</td>\n",
       "      <td>-79.95191</td>\n",
       "      <td>40.43785</td>\n",
       "      <td>-79.96397</td>\n",
       "      <td>0.873665</td>\n",
       "      <td>6.0</td>\n",
       "      <td>America/New_York</td>\n",
       "      <td>P1.11</td>\n",
       "      <td>USA</td>\n",
       "      <td>2019-04-16 17:00:00-04:00</td>\n",
       "      <td>NaN</td>\n",
       "    </tr>\n",
       "  </tbody>\n",
       "</table>\n",
       "</div>"
      ],
      "text/plain": [
       "         tmc     road  direction    intersection state     county    zip  \\\n",
       "0  104+09237  5TH AVE  EASTBOUND     WILKINS AVE    PA  ALLEGHENY  15213   \n",
       "1  104+09238  5TH AVE  EASTBOUND       SHADY AVE    PA  ALLEGHENY  15232   \n",
       "2  104-09237  5TH AVE  WESTBOUND     WILKINS AVE    PA  ALLEGHENY  15232   \n",
       "3  104-09236  5TH AVE  WESTBOUND  BELLEFIELD AVE    PA  ALLEGHENY  15213   \n",
       "4  104-09235  5TH AVE  WESTBOUND       CRAFT AVE    PA  ALLEGHENY  15213   \n",
       "\n",
       "   start_latitude  start_longitude  end_latitude  end_longitude     miles  \\\n",
       "0        40.44653        -79.95191      40.44781      -79.93722  0.779806   \n",
       "1        40.44781        -79.93722      40.45289      -79.92074  0.940722   \n",
       "2        40.45289        -79.92074      40.44781      -79.93722  0.940722   \n",
       "3        40.44781        -79.93722      40.44653      -79.95191  0.779806   \n",
       "4        40.44653        -79.95191      40.43785      -79.96397  0.873665   \n",
       "\n",
       "   road_order     timezone_name   type country          active_start_date  \\\n",
       "0         3.0  America/New_York  P1.11     USA  2019-04-16 17:00:00-04:00   \n",
       "1         4.0  America/New_York  P1.11     USA  2019-04-16 17:00:00-04:00   \n",
       "2         4.0  America/New_York  P1.11     USA  2019-04-16 17:00:00-04:00   \n",
       "3         5.0  America/New_York  P1.11     USA  2019-04-16 17:00:00-04:00   \n",
       "4         6.0  America/New_York  P1.11     USA  2019-04-16 17:00:00-04:00   \n",
       "\n",
       "  active_end_date  \n",
       "0             NaN  \n",
       "1             NaN  \n",
       "2             NaN  \n",
       "3             NaN  \n",
       "4             NaN  "
      ]
     },
     "execution_count": 56,
     "metadata": {},
     "output_type": "execute_result"
    }
   ],
   "source": [
    "fifth = TMC.loc[TMC.road == '5TH AVE',:]\n",
    "fifth.head()"
   ]
  },
  {
   "cell_type": "code",
   "execution_count": 47,
   "metadata": {},
   "outputs": [],
   "source": [
    "traf.rename(columns={'tmc_code':'tmc'}, inplace = True)"
   ]
  },
  {
   "cell_type": "code",
   "execution_count": 48,
   "metadata": {},
   "outputs": [],
   "source": [
    "main = pd.merge(fifth,traf,on= 'tmc', how = 'inner')"
   ]
  },
  {
   "cell_type": "code",
   "execution_count": 58,
   "metadata": {},
   "outputs": [],
   "source": [
    "main.rename(columns={'measurement_tstamp':'Date'}, inplace=True)"
   ]
  },
  {
   "cell_type": "code",
   "execution_count": 61,
   "metadata": {},
   "outputs": [],
   "source": [
    "EST = main.loc[main.direction == 'EASTBOUND',:]"
   ]
  },
  {
   "cell_type": "code",
   "execution_count": 68,
   "metadata": {},
   "outputs": [
    {
     "name": "stderr",
     "output_type": "stream",
     "text": [
      "C:\\python\\lib\\site-packages\\ipykernel_launcher.py:2: SettingWithCopyWarning: \n",
      "A value is trying to be set on a copy of a slice from a DataFrame.\n",
      "Try using .loc[row_indexer,col_indexer] = value instead\n",
      "\n",
      "See the caveats in the documentation: http://pandas.pydata.org/pandas-docs/stable/indexing.html#indexing-view-versus-copy\n",
      "  \n",
      "C:\\python\\lib\\site-packages\\ipykernel_launcher.py:3: SettingWithCopyWarning: \n",
      "A value is trying to be set on a copy of a slice from a DataFrame.\n",
      "Try using .loc[row_indexer,col_indexer] = value instead\n",
      "\n",
      "See the caveats in the documentation: http://pandas.pydata.org/pandas-docs/stable/indexing.html#indexing-view-versus-copy\n",
      "  This is separate from the ipykernel package so we can avoid doing imports until\n"
     ]
    }
   ],
   "source": [
    "import datetime as dt\n",
    "EST['Date'] = pd.to_datetime(EST['Date'])\n",
    "EST['hour'] = EST['Date'].dt.hour "
   ]
  },
  {
   "cell_type": "code",
   "execution_count": 95,
   "metadata": {},
   "outputs": [],
   "source": [
    "import datetime\n",
    "t1 = pd.to_datetime('3-7-2018')\n",
    "t2 = pd.to_datetime('5-21-2018')\n",
    "t3 = pd.to_datetime('8-14-2018')"
   ]
  },
  {
   "cell_type": "code",
   "execution_count": 96,
   "metadata": {},
   "outputs": [],
   "source": [
    "traf1= EST[EST[\"Date\"].between(t1,t2)]\n",
    "traf2 = EST[EST[\"Date\"].between(t2,t3)]"
   ]
  },
  {
   "cell_type": "code",
   "execution_count": 98,
   "metadata": {},
   "outputs": [],
   "source": [
    "MRNGG = traf1.loc[(traf1.hour >= 7) & (traf1.hour < 9),:]\n",
    "AFT = traf1.loc[(traf1.hour >= 10) & (traf1.hour <15 ),:]\n",
    "EVN = traf1.loc[(traf1.hour >= 16) & (traf1.hour <18 ),:]\n"
   ]
  },
  {
   "cell_type": "code",
   "execution_count": 87,
   "metadata": {},
   "outputs": [
    {
     "data": {
      "text/plain": [
       "Text(0,0.5,'Count of cars')"
      ]
     },
     "execution_count": 87,
     "metadata": {},
     "output_type": "execute_result"
    },
    {
     "data": {
      "image/png": "[encoded data removed]",
      "text/plain": [
       "<matplotlib.figure.Figure at 0x23891674240>"
      ]
     },
     "metadata": {},
     "output_type": "display_data"
    }
   ],
   "source": [
    "# for time between 7:00 AM - 9 : 00 PM\n",
    "import matplotlib.pyplot as plt\n",
    "%matplotlib inline\n",
    "bin = [0,10,20,30,40]\n",
    "plt.hist(MRNGG['speed'],rwidth = .9, bins = bin , color = 'r')\n",
    "plt.xlabel('speed range')\n",
    "plt.ylabel('Count of cars')"
   ]
  },
  {
   "cell_type": "code",
   "execution_count": 89,
   "metadata": {},
   "outputs": [
    {
     "data": {
      "text/plain": [
       "Text(0,0.5,'Count of cars')"
      ]
     },
     "execution_count": 89,
     "metadata": {},
     "output_type": "execute_result"
    },
    {
     "data": {
      "image/png": "[encoded data removed]",
      "text/plain": [
       "<matplotlib.figure.Figure at 0x238918ec4a8>"
      ]
     },
     "metadata": {},
     "output_type": "display_data"
    }
   ],
   "source": [
    "%matplotlib inline\n",
    "bin = [0,10,20,30,40]\n",
    "plt.hist(AFT['speed'],rwidth = .9, bins = bin , color = 'g')\n",
    "plt.xlabel('speed range')\n",
    "plt.ylabel('Count of cars')"
   ]
  },
  {
   "cell_type": "code",
   "execution_count": 91,
   "metadata": {},
   "outputs": [
    {
     "data": {
      "text/plain": [
       "Text(0,0.5,'Count of cars')"
      ]
     },
     "execution_count": 91,
     "metadata": {},
     "output_type": "execute_result"
    },
    {
     "data": {
      "image/png": "[encoded data removed]",
      "text/plain": [
       "<matplotlib.figure.Figure at 0x238917c61d0>"
      ]
     },
     "metadata": {},
     "output_type": "display_data"
    }
   ],
   "source": [
    "%matplotlib inline\n",
    "bin = [0,10,20,30,40]\n",
    "plt.hist(EVN['speed'],rwidth = .9, bins = bin )\n",
    "plt.xlabel('speed range')\n",
    "plt.ylabel('Count of cars')"
   ]
  },
  {
   "cell_type": "code",
   "execution_count": 99,
   "metadata": {},
   "outputs": [],
   "source": [
    "MRNGG1 = traf2.loc[(traf2.hour >= 7) & (traf2.hour < 9),:]\n",
    "AFT1 = traf2.loc[(traf2.hour >= 10) & (traf2.hour <15 ),:]\n",
    "EVN1 = traf2.loc[(traf2.hour >= 16) & (traf2.hour <18 ),:]\n"
   ]
  },
  {
   "cell_type": "code",
   "execution_count": 100,
   "metadata": {},
   "outputs": [
    {
     "data": {
      "text/plain": [
       "Text(0,0.5,'Count of cars')"
      ]
     },
     "execution_count": 100,
     "metadata": {},
     "output_type": "execute_result"
    },
    {
     "data": {
      "image/png": "[encoded data removed]",
      "text/plain": [
       "<matplotlib.figure.Figure at 0x23891a0c2e8>"
      ]
     },
     "metadata": {},
     "output_type": "display_data"
    }
   ],
   "source": [
    "import matplotlib.pyplot as plt\n",
    "%matplotlib inline\n",
    "bin = [0,10,20,30,40]\n",
    "plt.hist(MRNGG1['speed'],rwidth = .9, bins = bin , color = 'r')\n",
    "plt.xlabel('speed range')\n",
    "plt.ylabel('Count of cars')"
   ]
  },
  {
   "cell_type": "code",
   "execution_count": 101,
   "metadata": {},
   "outputs": [
    {
     "data": {
      "text/plain": [
       "Text(0,0.5,'Count of cars')"
      ]
     },
     "execution_count": 101,
     "metadata": {},
     "output_type": "execute_result"
    },
    {
     "data": {
      "image/png": "[encoded data removed]",
      "text/plain": [
       "<matplotlib.figure.Figure at 0x23891955898>"
      ]
     },
     "metadata": {},
     "output_type": "display_data"
    }
   ],
   "source": [
    "%matplotlib inline\n",
    "bin = [0,10,20,30,40]\n",
    "plt.hist(AFT1['speed'],rwidth = .9, bins = bin , color = 'g')\n",
    "plt.xlabel('speed range')\n",
    "plt.ylabel('Count of cars')"
   ]
  },
  {
   "cell_type": "code",
   "execution_count": 102,
   "metadata": {},
   "outputs": [
    {
     "data": {
      "text/plain": [
       "Text(0,0.5,'Count of cars')"
      ]
     },
     "execution_count": 102,
     "metadata": {},
     "output_type": "execute_result"
    },
    {
     "data": {
      "image/png": "[encoded data removed]",
      "text/plain": [
       "<matplotlib.figure.Figure at 0x23891a0c780>"
      ]
     },
     "metadata": {},
     "output_type": "display_data"
    }
   ],
   "source": [
    "%matplotlib inline\n",
    "bin = [0,10,20,30,40]\n",
    "plt.hist(EVN1['speed'],rwidth = .9, bins = bin )\n",
    "plt.xlabel('speed range')\n",
    "plt.ylabel('Count of cars')"
   ]
  },
  {
   "cell_type": "code",
   "execution_count": null,
   "metadata": {},
   "outputs": [],
   "source": []
  }
 ],
 "metadata": {
  "kernelspec": {
   "display_name": "Python 3",
   "language": "python",
   "name": "python3"
  },
  "language_info": {
   "codemirror_mode": {
    "name": "ipython",
    "version": 3
   },
   "file_extension": ".py",
   "mimetype": "text/x-python",
   "name": "python",
   "nbconvert_exporter": "python",
   "pygments_lexer": "ipython3",
   "version": "3.6.10"
  }
 },
 "nbformat": 4,
 "nbformat_minor": 2
}
